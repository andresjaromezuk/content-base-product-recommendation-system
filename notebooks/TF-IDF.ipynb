{
 "cells": [
  {
   "cell_type": "code",
   "execution_count": 1,
   "metadata": {},
   "outputs": [],
   "source": [
    "#imports\n",
    "import sys\n",
    "import os\n",
    "\n",
    "project_root = os.path.abspath(os.path.join(os.getcwd(), '..'))\n",
    "if project_root not in sys.path:\n",
    "    sys.path.append(project_root)\n",
    "\n",
    "\n",
    "import pandas as pd\n",
    "\n",
    "from sklearn.feature_extraction.text import TfidfVectorizer\n",
    "from sklearn.metrics.pairwise import cosine_similarity\n",
    "from sklearn.decomposition import TruncatedSVD\n",
    "import numpy as np\n",
    "from datetime import datetime"
   ]
  },
  {
   "cell_type": "markdown",
   "metadata": {},
   "source": [
    "### I. Preprocesamiento"
   ]
  },
  {
   "cell_type": "code",
   "execution_count": 2,
   "metadata": {},
   "outputs": [],
   "source": [
    "items_df = pd.read_csv('../data/items_202505280739.csv')\n",
    "n_nan = items_df['description'].isna().sum()\n",
    "n_iguales = (items_df['description'] == items_df['title']).sum()\n",
    "\n",
    "#Eliminamos los items que no tienen descripción o que tienen el mismo título que la descripción\n",
    "items_df = items_df[\n",
    "    (~items_df['description'].isna()) & (items_df['description'] != items_df['title'])\n",
    "]\n",
    "\n",
    "\n",
    "\n",
    "#items_df['description'] = items_df['description'].fillna(\"\")"
   ]
  },
  {
   "cell_type": "code",
   "execution_count": 6,
   "metadata": {},
   "outputs": [
    {
     "data": {
      "text/plain": [
       "'Remera confeccionada en 100% algodón, posee cuello redondo y estampado frontal \"U.S.A 1990\". Su diseño simple pero con personalidad está inspirado en la estética noventera, ideal para quienes aman lo clásico con onda. Confeccionada en algodón suave y liviano, tiene un calce relajado perfecto para todos los días.\\r\\n\\r\\n✔ Estampa frontal estilo retro\\r\\n✔ Cuello redondo clásico\\r\\n✔ Tela liviana y cómoda\\r\\n✔ Corte unisex y relajado\\r\\n✔ Disponible en varios colores básicos\\r\\n\\r\\n<b> Cuidados </b>\\r\\n\\r\\n-Lavado con agua fría.\\r\\n-Lavar del revés.\\r\\n-Usar secado natural.'"
      ]
     },
     "execution_count": 6,
     "metadata": {},
     "output_type": "execute_result"
    }
   ],
   "source": [
    "items_df['description'].iloc[-1]"
   ]
  },
  {
   "cell_type": "markdown",
   "metadata": {},
   "source": [
    "### II. Extracción de features"
   ]
  },
  {
   "cell_type": "code",
   "execution_count": 3,
   "metadata": {},
   "outputs": [],
   "source": [
    "\n",
    "# creating the tf-idf Vectorizer to analyze, at word level, unigrams and bigrams\n",
    "tf = TfidfVectorizer(analyzer='word', ngram_range=(1,1)) \n",
    " \n",
    "# applying the vectorizer on the 'tags' column\n",
    "tfidf_matrix = tf.fit_transform(items_df['description'])\n",
    " \n",
    "# compute the cosine similarity between all the samples in the matrix\n",
    "cosine_sim = cosine_similarity(tfidf_matrix) \n",
    " \n",
    "# saving the values in a DataFrame for better visualisation\n",
    "cosine_sim_df = pd.DataFrame(cosine_sim, index=items_df['title'], columns=items_df['title']) \n"
   ]
  },
  {
   "cell_type": "markdown",
   "metadata": {},
   "source": [
    "### III. Reducción de dimensionalidad"
   ]
  },
  {
   "cell_type": "code",
   "execution_count": 4,
   "metadata": {},
   "outputs": [],
   "source": [
    "svd = TruncatedSVD(n_components=839, random_state=42)\n",
    "#svd.fit(tfidf_matrix)\n",
    "# Varianza explicada acumulada\n",
    "# var_acumulada = np.cumsum(svd.explained_variance_ratio_)\n",
    "\n",
    "# # ¿Cuántos componentes necesito para retener el 90% de la varianza?\n",
    "# n_optimo = np.argmax(var_acumulada >= 0.90) + 1\n",
    "# print(f\"Para retener el 90% de la varianza, necesito {n_optimo} componentes.\")\n",
    "\n",
    "reduced_matrix = svd.fit_transform(tfidf_matrix)\n"
   ]
  },
  {
   "cell_type": "code",
   "execution_count": 5,
   "metadata": {},
   "outputs": [],
   "source": [
    "#Guardamos el vector reducido en el dataframe\n",
    "items_df = items_df.reset_index(drop=True)\n",
    "items_df['text_vector'] = list(reduced_matrix)"
   ]
  },
  {
   "cell_type": "code",
   "execution_count": 19,
   "metadata": {},
   "outputs": [
    {
     "data": {
      "text/html": [
       "<div>\n",
       "<style scoped>\n",
       "    .dataframe tbody tr th:only-of-type {\n",
       "        vertical-align: middle;\n",
       "    }\n",
       "\n",
       "    .dataframe tbody tr th {\n",
       "        vertical-align: top;\n",
       "    }\n",
       "\n",
       "    .dataframe thead th {\n",
       "        text-align: right;\n",
       "    }\n",
       "</style>\n",
       "<table border=\"1\" class=\"dataframe\">\n",
       "  <thead>\n",
       "    <tr style=\"text-align: right;\">\n",
       "      <th></th>\n",
       "      <th>id</th>\n",
       "      <th>title</th>\n",
       "      <th>prototype_id</th>\n",
       "      <th>description</th>\n",
       "      <th>brief_description</th>\n",
       "      <th>height</th>\n",
       "      <th>width</th>\n",
       "      <th>depth</th>\n",
       "      <th>meta_title</th>\n",
       "      <th>meta_description</th>\n",
       "      <th>...</th>\n",
       "      <th>cuc_image_url</th>\n",
       "      <th>cuc_image_two</th>\n",
       "      <th>cuc_image_url_two</th>\n",
       "      <th>related_category_id</th>\n",
       "      <th>for_search</th>\n",
       "      <th>codigoProducto</th>\n",
       "      <th>fitType</th>\n",
       "      <th>last_unit_quantity</th>\n",
       "      <th>prop_desc</th>\n",
       "      <th>text_vector</th>\n",
       "    </tr>\n",
       "  </thead>\n",
       "  <tbody>\n",
       "    <tr>\n",
       "      <th>0</th>\n",
       "      <td>8</td>\n",
       "      <td>VESTIDO GREGORIO</td>\n",
       "      <td>1</td>\n",
       "      <td>Vestido estampado con largo modular maxi. Tien...</td>\n",
       "      <td>VESTIDO GREGORIO</td>\n",
       "      <td>1.0</td>\n",
       "      <td>1.0</td>\n",
       "      <td>1.0</td>\n",
       "      <td>VESTIDO GREGORIO</td>\n",
       "      <td>VESTIDO GREGORIO</td>\n",
       "      <td>...</td>\n",
       "      <td>NaN</td>\n",
       "      <td>False</td>\n",
       "      <td>NaN</td>\n",
       "      <td>NaN</td>\n",
       "      <td>True</td>\n",
       "      <td>sweet_3</td>\n",
       "      <td>NaN</td>\n",
       "      <td>NaN</td>\n",
       "      <td>NaN</td>\n",
       "      <td>[0.3082522658753316, -0.16165018154074312, -0....</td>\n",
       "    </tr>\n",
       "    <tr>\n",
       "      <th>1</th>\n",
       "      <td>10</td>\n",
       "      <td>Legging Poly Blue</td>\n",
       "      <td>1</td>\n",
       "      <td>Jean de tonalidad azul oscuro, chupin, tiro al...</td>\n",
       "      <td>Jean de tonalidad azul oscuro, chupin, tiro al...</td>\n",
       "      <td>1.0</td>\n",
       "      <td>1.0</td>\n",
       "      <td>1.0</td>\n",
       "      <td>LEGGING POLY BLUE</td>\n",
       "      <td>Jean de tonalidad azul oscuro, chupin, tiro al...</td>\n",
       "      <td>...</td>\n",
       "      <td>NaN</td>\n",
       "      <td>False</td>\n",
       "      <td>NaN</td>\n",
       "      <td>NaN</td>\n",
       "      <td>True</td>\n",
       "      <td>sweet_2</td>\n",
       "      <td>NaN</td>\n",
       "      <td>NaN</td>\n",
       "      <td>NaN</td>\n",
       "      <td>[0.27558201146934536, -0.038430255864428005, 0...</td>\n",
       "    </tr>\n",
       "    <tr>\n",
       "      <th>2</th>\n",
       "      <td>11</td>\n",
       "      <td>LOLI HIGH GINETTE</td>\n",
       "      <td>1</td>\n",
       "      <td>Jean de tonalidad oscura, de corte recto en la...</td>\n",
       "      <td>DENIM</td>\n",
       "      <td>1.0</td>\n",
       "      <td>1.0</td>\n",
       "      <td>1.0</td>\n",
       "      <td>LOLI HIGH GINETTE</td>\n",
       "      <td>Jean de tonalidad oscura, de corte recto en la...</td>\n",
       "      <td>...</td>\n",
       "      <td>NaN</td>\n",
       "      <td>False</td>\n",
       "      <td>NaN</td>\n",
       "      <td>NaN</td>\n",
       "      <td>True</td>\n",
       "      <td>sweet_2</td>\n",
       "      <td>NaN</td>\n",
       "      <td>NaN</td>\n",
       "      <td>NaN</td>\n",
       "      <td>[0.4157201322171712, -0.11173354366388447, 0.3...</td>\n",
       "    </tr>\n",
       "    <tr>\n",
       "      <th>3</th>\n",
       "      <td>12</td>\n",
       "      <td>CLEAN HIGH SPIN COLORS</td>\n",
       "      <td>1</td>\n",
       "      <td>Jean de color, skinny al cuerpo, tiro alto a l...</td>\n",
       "      <td>VINTAGE</td>\n",
       "      <td>1.0</td>\n",
       "      <td>1.0</td>\n",
       "      <td>1.0</td>\n",
       "      <td>CLEAN HIGH SPIN COLORS</td>\n",
       "      <td>Jean de color, skinny al cuerpo, tiro alto a l...</td>\n",
       "      <td>...</td>\n",
       "      <td>NaN</td>\n",
       "      <td>False</td>\n",
       "      <td>NaN</td>\n",
       "      <td>NaN</td>\n",
       "      <td>True</td>\n",
       "      <td>NaN</td>\n",
       "      <td>NaN</td>\n",
       "      <td>NaN</td>\n",
       "      <td>NaN</td>\n",
       "      <td>[0.38736524751644047, -0.07456073404358475, 0....</td>\n",
       "    </tr>\n",
       "    <tr>\n",
       "      <th>4</th>\n",
       "      <td>13</td>\n",
       "      <td>CLEAN HIGH JOLY</td>\n",
       "      <td>1</td>\n",
       "      <td>Jean de tonalidad oscura, skinny al cuerpo, ti...</td>\n",
       "      <td>DENIM</td>\n",
       "      <td>1.0</td>\n",
       "      <td>1.0</td>\n",
       "      <td>1.0</td>\n",
       "      <td>CLEAN HIGH JOLY</td>\n",
       "      <td>Jean de tonalidad oscura, skinny al cuerpo, ti...</td>\n",
       "      <td>...</td>\n",
       "      <td>NaN</td>\n",
       "      <td>False</td>\n",
       "      <td>NaN</td>\n",
       "      <td>NaN</td>\n",
       "      <td>True</td>\n",
       "      <td>sweet_2</td>\n",
       "      <td>NaN</td>\n",
       "      <td>NaN</td>\n",
       "      <td>NaN</td>\n",
       "      <td>[0.35371749368947625, -0.03752419171415911, 0....</td>\n",
       "    </tr>\n",
       "  </tbody>\n",
       "</table>\n",
       "<p>5 rows × 49 columns</p>\n",
       "</div>"
      ],
      "text/plain": [
       "   id                   title  prototype_id  \\\n",
       "0   8        VESTIDO GREGORIO             1   \n",
       "1  10       Legging Poly Blue             1   \n",
       "2  11       LOLI HIGH GINETTE             1   \n",
       "3  12  CLEAN HIGH SPIN COLORS             1   \n",
       "4  13         CLEAN HIGH JOLY             1   \n",
       "\n",
       "                                         description  \\\n",
       "0  Vestido estampado con largo modular maxi. Tien...   \n",
       "1  Jean de tonalidad azul oscuro, chupin, tiro al...   \n",
       "2  Jean de tonalidad oscura, de corte recto en la...   \n",
       "3  Jean de color, skinny al cuerpo, tiro alto a l...   \n",
       "4  Jean de tonalidad oscura, skinny al cuerpo, ti...   \n",
       "\n",
       "                                   brief_description  height  width  depth  \\\n",
       "0                                   VESTIDO GREGORIO     1.0    1.0    1.0   \n",
       "1  Jean de tonalidad azul oscuro, chupin, tiro al...     1.0    1.0    1.0   \n",
       "2                                              DENIM     1.0    1.0    1.0   \n",
       "3                                            VINTAGE     1.0    1.0    1.0   \n",
       "4                                              DENIM     1.0    1.0    1.0   \n",
       "\n",
       "               meta_title                                   meta_description  \\\n",
       "0        VESTIDO GREGORIO                                   VESTIDO GREGORIO   \n",
       "1       LEGGING POLY BLUE  Jean de tonalidad azul oscuro, chupin, tiro al...   \n",
       "2       LOLI HIGH GINETTE  Jean de tonalidad oscura, de corte recto en la...   \n",
       "3  CLEAN HIGH SPIN COLORS  Jean de color, skinny al cuerpo, tiro alto a l...   \n",
       "4         CLEAN HIGH JOLY  Jean de tonalidad oscura, skinny al cuerpo, ti...   \n",
       "\n",
       "   ... cuc_image_url  cuc_image_two  cuc_image_url_two related_category_id  \\\n",
       "0  ...           NaN          False                NaN                 NaN   \n",
       "1  ...           NaN          False                NaN                 NaN   \n",
       "2  ...           NaN          False                NaN                 NaN   \n",
       "3  ...           NaN          False                NaN                 NaN   \n",
       "4  ...           NaN          False                NaN                 NaN   \n",
       "\n",
       "  for_search  codigoProducto fitType  last_unit_quantity  prop_desc  \\\n",
       "0       True         sweet_3     NaN                 NaN        NaN   \n",
       "1       True         sweet_2     NaN                 NaN        NaN   \n",
       "2       True         sweet_2     NaN                 NaN        NaN   \n",
       "3       True             NaN     NaN                 NaN        NaN   \n",
       "4       True         sweet_2     NaN                 NaN        NaN   \n",
       "\n",
       "                                         text_vector  \n",
       "0  [0.3082522658753316, -0.16165018154074312, -0....  \n",
       "1  [0.27558201146934536, -0.038430255864428005, 0...  \n",
       "2  [0.4157201322171712, -0.11173354366388447, 0.3...  \n",
       "3  [0.38736524751644047, -0.07456073404358475, 0....  \n",
       "4  [0.35371749368947625, -0.03752419171415911, 0....  \n",
       "\n",
       "[5 rows x 49 columns]"
      ]
     },
     "execution_count": 19,
     "metadata": {},
     "output_type": "execute_result"
    }
   ],
   "source": [
    "items_df.head()"
   ]
  },
  {
   "cell_type": "markdown",
   "metadata": {},
   "source": [
    "### IV. Persistencia en BBDD vectorial"
   ]
  },
  {
   "cell_type": "code",
   "execution_count": null,
   "metadata": {},
   "outputs": [
    {
     "data": {
      "text/plain": [
       "{'cluster_name': 'docker-cluster',\n",
       " 'status': 'yellow',\n",
       " 'timed_out': False,\n",
       " 'number_of_nodes': 1,\n",
       " 'number_of_data_nodes': 1,\n",
       " 'discovered_master': True,\n",
       " 'discovered_cluster_manager': True,\n",
       " 'active_primary_shards': 6,\n",
       " 'active_shards': 6,\n",
       " 'relocating_shards': 0,\n",
       " 'initializing_shards': 0,\n",
       " 'unassigned_shards': 1,\n",
       " 'delayed_unassigned_shards': 0,\n",
       " 'number_of_pending_tasks': 0,\n",
       " 'number_of_in_flight_fetch': 0,\n",
       " 'task_max_waiting_in_queue_millis': 0,\n",
       " 'active_shards_percent_as_number': 85.71428571428571}"
      ]
     },
     "execution_count": 17,
     "metadata": {},
     "output_type": "execute_result"
    }
   ],
   "source": [
    "\n",
    "from src.services.database.vector_db_service import VectorDbService\n",
    "from src.services.database.models import Item\n",
    "\n",
    "vdbs = VectorDbService()\n",
    "client = vdbs.client\n",
    "client.cluster.health()"
   ]
  },
  {
   "cell_type": "code",
   "execution_count": 23,
   "metadata": {},
   "outputs": [
    {
     "name": "stdout",
     "output_type": "stream",
     "text": [
      "Índice inicializado correctamente.\n"
     ]
    }
   ],
   "source": [
    "try:\n",
    "    #client.indices.delete('items')\n",
    "    Item.init(using=client)\n",
    "    print(\"Índice inicializado correctamente.\")\n",
    "except Exception as e:\n",
    "    print(f\"Error al inicializar el índice: {e}\")"
   ]
  },
  {
   "cell_type": "code",
   "execution_count": 24,
   "metadata": {},
   "outputs": [
    {
     "name": "stdout",
     "output_type": "stream",
     "text": [
      "Error al guardar la película SWEATER OFIDA: RequestError(400, 'mapper_parsing_exception', \"failed to parse field [text_vector] of type [knn_vector] in document with id '586'. Preview of field's value: 'null'\")\n"
     ]
    }
   ],
   "source": [
    "for i, row in items_df.iterrows():\n",
    "    try:\n",
    "\n",
    "        it = Item(\n",
    "            item_id = row.id,\n",
    "            #url = row['IMDB URL'],\n",
    "            title = row['title'],\n",
    "            description = row['description'],\n",
    "            text_vector = list(items_df['text_vector'][i]),\n",
    "            created_at = datetime.now()\n",
    "        )\n",
    "        it.save(using=client)\n",
    "        #Movie.search(using=client).count()\n",
    "        #mv.save(using=client)\n",
    "    except Exception as e:\n",
    "        print(f\"Error al guardar la película {row['title']}: {e}\")"
   ]
  },
  {
   "cell_type": "code",
   "execution_count": null,
   "metadata": {},
   "outputs": [],
   "source": [
    "# def get_recommendations(movie_id, similarity_df, movies_df, k=10):\n",
    " \n",
    "# # partitions the matrix such that the indices are in the position they would be in a sorted array\n",
    "# ix = similarity_df.loc[:,movie_id].to_numpy().argpartition(range(-1,-k,-1))\n",
    " \n",
    "# # gets the corresponding movie titles for k+1 sorted indices    \n",
    "# closest = similarity_df.columns[ix[-1:-(k+2):-1]] \n",
    " \n",
    "# # removes the queried title from the results\n",
    "# closest = closest.drop(movie_id, errors='ignore')    \n",
    " \n",
    "# # returns top k most similar movies\n",
    "# return pd.DataFrame(closest).merge(movies_df).head(k) "
   ]
  },
  {
   "cell_type": "code",
   "execution_count": null,
   "metadata": {},
   "outputs": [],
   "source": []
  }
 ],
 "metadata": {
  "kernelspec": {
   "display_name": "item-recommendation",
   "language": "python",
   "name": "python3"
  },
  "language_info": {
   "codemirror_mode": {
    "name": "ipython",
    "version": 3
   },
   "file_extension": ".py",
   "mimetype": "text/x-python",
   "name": "python",
   "nbconvert_exporter": "python",
   "pygments_lexer": "ipython3",
   "version": "3.13.3"
  }
 },
 "nbformat": 4,
 "nbformat_minor": 2
}
